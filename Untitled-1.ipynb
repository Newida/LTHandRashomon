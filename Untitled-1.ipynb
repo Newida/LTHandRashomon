{
 "cells": [
  {
   "cell_type": "code",
   "execution_count": 1,
   "metadata": {},
   "outputs": [],
   "source": [
    "import pickle\n",
    "import time\n",
    "import itertools\n",
    "import numpy as np\n",
    "from pathlib import Path\n",
    "from matplotlib.colors import LinearSegmentedColormap\n",
    "import matplotlib.pyplot as plt\n",
    "from PIL import Image\n",
    "\n",
    "import torch\n",
    "import torchvision\n",
    "import torchvision.transforms as transforms\n",
    "import torch.nn.functional as F\n",
    "import captum\n",
    "from captum.attr import visualization as viz\n",
    "from captum.attr import IntegratedGradients, Saliency, DeepLift, NoiseTunnel\n",
    "\n",
    "\n",
    "from resnet20 import Resnet_N_W\n",
    "from Hparams import Hparams\n",
    "from utils_Earlystopper import EarlyStopper\n",
    "import utils\n",
    "import routines\n",
    "\n",
    "try:\n",
    "    torch.backends.cudnn.deterministic = True\n",
    "    torch.backends.cudnn.benchmark = False\n",
    "except NameError or ModuleNotFoundError:\n",
    "    pass\n",
    "#setting the path to store/load dataset cifar10\n",
    "workdir = Path.cwd()\n",
    "data_path = workdir / \"datasets\" / \"cifar10\"\n",
    "if not data_path.exists():\n",
    "    data_path.mkdir(parents=True)\n",
    "device = torch.device(\"cuda\" if torch.cuda.is_available() else \"cpu\")\n",
    "dataset_hparams = Hparams.DatasetHparams(\n",
    "    test_seed=0,\n",
    "    val_seed=0,\n",
    "    train_seed=42,\n",
    "    split_seed=0,\n",
    "    rngCrop_seed=0,\n",
    "    rngRandomHflip_seed=0,\n",
    "    batch_size=128\n",
    ")\n",
    "dataloaderhelper = utils.DataLoaderHelper(\n",
    "    datasethparams=dataset_hparams\n",
    ")\n",
    "testset = dataloaderhelper.get_testset(data_path, dataloaderhelper.get_transform(False))"
   ]
  }
 ],
 "metadata": {
  "kernelspec": {
   "display_name": "Python 3",
   "language": "python",
   "name": "python3"
  },
  "language_info": {
   "codemirror_mode": {
    "name": "ipython",
    "version": 3
   },
   "file_extension": ".py",
   "mimetype": "text/x-python",
   "name": "python",
   "nbconvert_exporter": "python",
   "pygments_lexer": "ipython3",
   "version": "3.8.10"
  }
 },
 "nbformat": 4,
 "nbformat_minor": 2
}
