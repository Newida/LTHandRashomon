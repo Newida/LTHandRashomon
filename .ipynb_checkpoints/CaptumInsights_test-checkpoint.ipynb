{
 "cells": [
  {
   "cell_type": "code",
   "execution_count": 1,
   "metadata": {},
   "outputs": [
    {
     "name": "stdout",
     "output_type": "stream",
     "text": [
      "Files already downloaded and verified\n"
     ]
    },
    {
     "data": {
      "application/vnd.jupyter.widget-view+json": {
       "model_id": "9af3e62fea42442f99a9867b28fc4dde",
       "version_major": 2,
       "version_minor": 0
      },
      "text/plain": [
       "CaptumInsights(insights_config={'classes': ('plane', 'car', 'bird', 'cat', 'deer', 'dog', 'frog', 'horse', 'sh…"
      ]
     },
     "metadata": {},
     "output_type": "display_data"
    },
    {
     "data": {
      "application/vnd.jupyter.widget-view+json": {
       "model_id": "d262515a580548278dd48dc45fd8f40e",
       "version_major": 2,
       "version_minor": 0
      },
      "text/plain": [
       "Output()"
      ]
     },
     "metadata": {},
     "output_type": "display_data"
    }
   ],
   "source": [
    "import os\n",
    "import torch\n",
    "import torch.nn as nn\n",
    "import torchvision\n",
    "import torchvision.transforms as transforms\n",
    "\n",
    "import routines\n",
    "from Hparams import Hparams\n",
    "from pathlib import Path\n",
    "import utils\n",
    "\n",
    "from captum.insights import AttributionVisualizer, Batch\n",
    "from captum.insights.attr_vis.features import ImageFeature\n",
    "try:\n",
    "    torch.backends.cudnn.deterministic = True\n",
    "    torch.backends.cudnn.benchmark = False\n",
    "except NameError or ModuleNotFoundError:\n",
    "    pass\n",
    "#setting the path to store/load dataset cifar10\n",
    "workdir = Path.cwd()\n",
    "data_path = workdir / \"datasets\" / \"cifar10\"\n",
    "if not data_path.exists():\n",
    "    data_path.mkdir(parents=True)\n",
    "device = torch.device(\"cuda\" if torch.cuda.is_available() else \"cpu\")\n",
    "dataset_hparams = Hparams.DatasetHparams(\n",
    "    test_seed=0,\n",
    "    val_seed=0,\n",
    "    train_seed=0,\n",
    "    split_seed=0,\n",
    "    rngCrop_seed=0,\n",
    "    rngRandomHflip_seed=0,\n",
    "    batch_size=128\n",
    ")\n",
    "dataloaderhelper = utils.DataLoaderHelper(\n",
    "    datasethparams=dataset_hparams\n",
    ")\n",
    "testset = dataloaderhelper.get_testset(data_path, transform=transforms.ToTensor())\n",
    "classes = ('plane', 'car', 'bird', 'cat', 'deer', 'dog', 'frog', 'horse', 'ship', 'truck')\n",
    "\n",
    "models, all_model_stats, _1, _2, _3, _4 = routines.load_experiment(\"e6_1\")\n",
    "winner = models[4]\n",
    "winner.eval()\n",
    "\n",
    "normalize = transforms.Normalize((0.5, 0.5, 0.5), (0.5, 0.5, 0.5))\n",
    "def baseline_func(input):\n",
    "    return input * 0\n",
    "\n",
    "\n",
    "visualizer = AttributionVisualizer(\n",
    "    models=models,\n",
    "    score_func=lambda o: torch.nn.functional.softmax(o, 1),\n",
    "    classes=classes,\n",
    "    features=[\n",
    "        ImageFeature(\n",
    "            \"Photo\",\n",
    "            baseline_transforms=[baseline_func],\n",
    "            input_transforms=[dataloaderhelper.get_transform(True)],\n",
    "        )\n",
    "    ],\n",
    "    dataset=testset\n",
    ")\n",
    "visualizer.render(debug=True)"
   ]
  },
  {
   "cell_type": "code",
   "execution_count": null,
   "metadata": {},
   "outputs": [],
   "source": []
  }
 ],
 "metadata": {
  "kernelspec": {
   "display_name": "Python 3 (ipykernel)",
   "language": "python",
   "name": "python3"
  },
  "language_info": {
   "codemirror_mode": {
    "name": "ipython",
    "version": 3
   },
   "file_extension": ".py",
   "mimetype": "text/x-python",
   "name": "python",
   "nbconvert_exporter": "python",
   "pygments_lexer": "ipython3",
   "version": "3.8.10"
  }
 },
 "nbformat": 4,
 "nbformat_minor": 4
}
